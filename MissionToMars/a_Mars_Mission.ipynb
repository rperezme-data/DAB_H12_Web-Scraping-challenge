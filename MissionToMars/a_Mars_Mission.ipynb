{
 "metadata": {
  "language_info": {
   "codemirror_mode": {
    "name": "ipython",
    "version": 3
   },
   "file_extension": ".py",
   "mimetype": "text/x-python",
   "name": "python",
   "nbconvert_exporter": "python",
   "pygments_lexer": "ipython3",
   "version": "3.6.10"
  },
  "orig_nbformat": 2,
  "kernelspec": {
   "name": "python3",
   "display_name": "Python 3.6.10 64-bit ('PythonData': conda)"
  },
  "interpreter": {
   "hash": "6df7a64a006c2d04527986e5d22de7d45e568162a61eafa714177317653674a0"
  }
 },
 "nbformat": 4,
 "nbformat_minor": 2,
 "cells": [
  {
   "source": [
    "# Mission to Mars\n",
    "### Description"
   ],
   "cell_type": "markdown",
   "metadata": {}
  },
  {
   "cell_type": "code",
   "execution_count": 1,
   "metadata": {},
   "outputs": [],
   "source": [
    "## Dependencies\n",
    "import pandas as pd\n",
    "import requests\n",
    "\n",
    "import pymongo\n",
    "\n",
    "from bs4 import BeautifulSoup as bs\n",
    "\n",
    "from splinter import Browser\n",
    "from webdriver_manager.chrome import ChromeDriverManager\n"
   ]
  },
  {
   "cell_type": "code",
   "execution_count": 2,
   "metadata": {},
   "outputs": [],
   "source": [
    "## Initialize PyMongo (MongoDB)\n",
    "conn = 'mongodb://localhost:27017'\n",
    "client = pymongo.MongoClient(conn)"
   ]
  },
  {
   "cell_type": "code",
   "execution_count": 3,
   "metadata": {},
   "outputs": [],
   "source": [
    "## Define database and collection\n",
    "# db = client.commerce_db\n",
    "# collection = db.items"
   ]
  },
  {
   "cell_type": "code",
   "execution_count": 4,
   "metadata": {},
   "outputs": [
    {
     "output_type": "stream",
     "name": "stderr",
     "text": [
      "\n",
      "\n",
      "====== WebDriver manager ======\n",
      "Current google-chrome version is 91.0.4472\n",
      "Get LATEST driver version for 91.0.4472\n",
      "Driver [C:\\Users\\rpmcl\\.wdm\\drivers\\chromedriver\\win32\\91.0.4472.19\\chromedriver.exe] found in cache\n"
     ]
    }
   ],
   "source": [
    "## Setup Splinter\n",
    "executable_path = {'executable_path': ChromeDriverManager().install()}\n",
    "browser = Browser('chrome', **executable_path, headless=False)"
   ]
  },
  {
   "source": [
    "## 1. NASA Mars News"
   ],
   "cell_type": "markdown",
   "metadata": {}
  },
  {
   "cell_type": "code",
   "execution_count": 5,
   "metadata": {},
   "outputs": [],
   "source": [
    "## Mars News URL\n",
    "url = \"https://redplanetscience.com/\"\n",
    "\n",
    "## Retrieve URL (request)\n",
    "# response = requests.get(url)\n",
    "# soup = bs(response.text, 'html.parser')\n",
    "\n",
    "## Open URL in Chrome Browser\n",
    "browser.visit(url)\n",
    "\n",
    "## Make Beautiful Soup\n",
    "soup = bs(browser.html, 'html.parser')\n",
    "\n",
    "## Extract News Title\n",
    "news_title = soup.find(\"div\", class_=\"content_title\").text\n",
    "\n",
    "## Extract News Paragraph\n",
    "news_paragraph = soup.find(\"div\", class_=\"article_teaser_body\").text"
   ]
  },
  {
   "cell_type": "code",
   "execution_count": 6,
   "metadata": {},
   "outputs": [
    {
     "output_type": "stream",
     "name": "stdout",
     "text": [
      "NASA's Mars Perseverance Rover Passes Flight Readiness Review\n​The agency's Mars 2020 mission has one more big prelaunch review – the Launch Readiness Review, on July 27.\n"
     ]
    }
   ],
   "source": [
    "## Display scraped News\n",
    "print(news_title)\n",
    "print(news_paragraph)"
   ]
  },
  {
   "source": [
    "## 2. JPL Mars Space Images (Featured Image)"
   ],
   "cell_type": "markdown",
   "metadata": {}
  },
  {
   "cell_type": "code",
   "execution_count": 7,
   "metadata": {},
   "outputs": [],
   "source": [
    "## Mars Space Images URL\n",
    "url = \"https://spaceimages-mars.com/\"\n",
    "\n",
    "## Open URL in Chrome Browser\n",
    "browser.visit(url)\n",
    "\n",
    "## Click \"FULL IMAGE\" button\n",
    "# browser.find_by_name(\" FULL IMAGE\").click()\n",
    "\n",
    "## Make Beautiful Soup\n",
    "soup = bs(browser.html, 'html.parser')\n",
    "\n",
    "## Extract image URL\n",
    "# featured_image_src = soup.find(\"img\", class_=\"fancybox_image\")[\"src\"]\n",
    "featured_image_src = soup.find(\"img\", class_=\"headerimage fade-in\")[\"src\"]\n",
    "featured_image_url = url + featured_image_src"
   ]
  },
  {
   "cell_type": "code",
   "execution_count": 8,
   "metadata": {},
   "outputs": [
    {
     "output_type": "stream",
     "name": "stdout",
     "text": [
      "https://spaceimages-mars.com/image/featured/mars3.jpg\n"
     ]
    }
   ],
   "source": [
    "## Display scraped URL\n",
    "print(featured_image_url)"
   ]
  },
  {
   "source": [
    "## 3. Mars Facts"
   ],
   "cell_type": "markdown",
   "metadata": {}
  },
  {
   "cell_type": "code",
   "execution_count": 9,
   "metadata": {},
   "outputs": [],
   "source": [
    "## Mars Facts URL\n",
    "url = \"https://galaxyfacts-mars.com/\"\n",
    "\n",
    "## Extract Tables from URL\n",
    "tables = pd.read_html(url)\n",
    "\n",
    "## Convert \"Mars Planet Profile\" Table to DataFrame\n",
    "mars_facts_df = tables[1]\n",
    "\n",
    "## Export table (HTML) from DataFrame\n",
    "mars_facts_df.to_html(\"Templates/Mars_Facts.html\", \n",
    "    justify=\"left\",\n",
    "    classes=\"table table-responsive table-bordered table-striped\",\n",
    "    border=0, encoding=\"utf-8\")"
   ]
  },
  {
   "cell_type": "code",
   "execution_count": 10,
   "metadata": {},
   "outputs": [
    {
     "output_type": "execute_result",
     "data": {
      "text/plain": [
       "                      0                              1\n",
       "0  Equatorial Diameter:                       6,792 km\n",
       "1       Polar Diameter:                       6,752 km\n",
       "2                 Mass:  6.39 × 10^23 kg (0.11 Earths)\n",
       "3                Moons:          2 ( Phobos & Deimos )\n",
       "4       Orbit Distance:       227,943,824 km (1.38 AU)\n",
       "5         Orbit Period:           687 days (1.9 years)\n",
       "6  Surface Temperature:                   -87 to -5 °C\n",
       "7         First Record:              2nd millennium BC\n",
       "8          Recorded By:           Egyptian astronomers"
      ],
      "text/html": "<div>\n<style scoped>\n    .dataframe tbody tr th:only-of-type {\n        vertical-align: middle;\n    }\n\n    .dataframe tbody tr th {\n        vertical-align: top;\n    }\n\n    .dataframe thead th {\n        text-align: right;\n    }\n</style>\n<table border=\"1\" class=\"dataframe\">\n  <thead>\n    <tr style=\"text-align: right;\">\n      <th></th>\n      <th>0</th>\n      <th>1</th>\n    </tr>\n  </thead>\n  <tbody>\n    <tr>\n      <th>0</th>\n      <td>Equatorial Diameter:</td>\n      <td>6,792 km</td>\n    </tr>\n    <tr>\n      <th>1</th>\n      <td>Polar Diameter:</td>\n      <td>6,752 km</td>\n    </tr>\n    <tr>\n      <th>2</th>\n      <td>Mass:</td>\n      <td>6.39 × 10^23 kg (0.11 Earths)</td>\n    </tr>\n    <tr>\n      <th>3</th>\n      <td>Moons:</td>\n      <td>2 ( Phobos &amp; Deimos )</td>\n    </tr>\n    <tr>\n      <th>4</th>\n      <td>Orbit Distance:</td>\n      <td>227,943,824 km (1.38 AU)</td>\n    </tr>\n    <tr>\n      <th>5</th>\n      <td>Orbit Period:</td>\n      <td>687 days (1.9 years)</td>\n    </tr>\n    <tr>\n      <th>6</th>\n      <td>Surface Temperature:</td>\n      <td>-87 to -5 °C</td>\n    </tr>\n    <tr>\n      <th>7</th>\n      <td>First Record:</td>\n      <td>2nd millennium BC</td>\n    </tr>\n    <tr>\n      <th>8</th>\n      <td>Recorded By:</td>\n      <td>Egyptian astronomers</td>\n    </tr>\n  </tbody>\n</table>\n</div>"
     },
     "metadata": {},
     "execution_count": 10
    }
   ],
   "source": [
    "## Display scraped table\n",
    "mars_facts_df"
   ]
  },
  {
   "source": [
    "## 4. Mars Hemispheres"
   ],
   "cell_type": "markdown",
   "metadata": {}
  },
  {
   "cell_type": "code",
   "execution_count": 11,
   "metadata": {},
   "outputs": [],
   "source": [
    "## Mars Hemispheres URL\n",
    "url = \"https://marshemispheres.com/\"\n",
    "\n",
    "## Open URL in Chrome Browser\n",
    "browser.visit(url)\n",
    "\n",
    "## Set variables\n",
    "hemisphere_image_urls = []\n",
    "\n",
    "## Scrape Loop\n",
    "for i in range(4):\n",
    "\n",
    "    ## Click \"Hemisphere\" link\n",
    "    browser.links.find_by_partial_text(\"Hemisphere\")[i].click()\n",
    "    ## Click \"Open\" link\n",
    "    browser.links.find_by_partial_text(\"Open\").click()\n",
    "\n",
    "    ## Make Beautiful Soup\n",
    "    soup = bs(browser.html, 'html.parser')\n",
    "\n",
    "    ## Extract hemisphere title\n",
    "    title_raw = soup.find(\"h2\", class_=\"title\").text\n",
    "    title_clean = title_raw.split(\" Enhanced\")[0]\n",
    "\n",
    "    ## Extract hemisphere image url\n",
    "    img_src = soup.find(\"img\", class_=\"wide-image\")[\"src\"]\n",
    "    img_url = url + img_src\n",
    "\n",
    "    ## Append hemisphere title & image as {key:value}\n",
    "    hemisphere_image_urls.append({\"title\": title_clean, \"img_url\": img_url})\n",
    "\n",
    "    ## Back Chrome Browser\n",
    "    browser.back()"
   ]
  },
  {
   "cell_type": "code",
   "execution_count": 12,
   "metadata": {},
   "outputs": [
    {
     "output_type": "execute_result",
     "data": {
      "text/plain": [
       "[{'title': 'Cerberus Hemisphere',\n",
       "  'img_url': 'https://marshemispheres.com/images/f5e372a36edfa389625da6d0cc25d905_cerberus_enhanced.tif_full.jpg'},\n",
       " {'title': 'Schiaparelli Hemisphere',\n",
       "  'img_url': 'https://marshemispheres.com/images/3778f7b43bbbc89d6e3cfabb3613ba93_schiaparelli_enhanced.tif_full.jpg'},\n",
       " {'title': 'Syrtis Major Hemisphere',\n",
       "  'img_url': 'https://marshemispheres.com/images/555e6403a6ddd7ba16ddb0e471cadcf7_syrtis_major_enhanced.tif_full.jpg'},\n",
       " {'title': 'Valles Marineris Hemisphere',\n",
       "  'img_url': 'https://marshemispheres.com/images/b3c7c6c9138f57b4756be9b9c43e3a48_valles_marineris_enhanced.tif_full.jpg'}]"
      ]
     },
     "metadata": {},
     "execution_count": 12
    }
   ],
   "source": [
    "## Display scraped Hemispheres\n",
    "hemisphere_image_urls"
   ]
  },
  {
   "cell_type": "code",
   "execution_count": 13,
   "metadata": {},
   "outputs": [],
   "source": [
    "## Close Chrome Browser\n",
    "browser.quit()"
   ]
  },
  {
   "cell_type": "code",
   "execution_count": null,
   "metadata": {},
   "outputs": [],
   "source": []
  },
  {
   "cell_type": "code",
   "execution_count": null,
   "metadata": {},
   "outputs": [],
   "source": []
  },
  {
   "cell_type": "code",
   "execution_count": null,
   "metadata": {},
   "outputs": [],
   "source": []
  },
  {
   "cell_type": "code",
   "execution_count": null,
   "metadata": {},
   "outputs": [],
   "source": []
  }
 ]
}