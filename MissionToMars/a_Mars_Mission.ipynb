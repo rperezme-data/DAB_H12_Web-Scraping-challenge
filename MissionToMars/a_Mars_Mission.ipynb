{
 "metadata": {
  "language_info": {
   "codemirror_mode": {
    "name": "ipython",
    "version": 3
   },
   "file_extension": ".py",
   "mimetype": "text/x-python",
   "name": "python",
   "nbconvert_exporter": "python",
   "pygments_lexer": "ipython3",
   "version": "3.6.10"
  },
  "orig_nbformat": 2,
  "kernelspec": {
   "name": "python3",
   "display_name": "Python 3.6.10 64-bit ('PythonData': conda)"
  },
  "interpreter": {
   "hash": "6df7a64a006c2d04527986e5d22de7d45e568162a61eafa714177317653674a0"
  }
 },
 "nbformat": 4,
 "nbformat_minor": 2,
 "cells": [
  {
   "source": [
    "# Mission to Mars\n",
    "### Description"
   ],
   "cell_type": "markdown",
   "metadata": {}
  },
  {
   "cell_type": "code",
   "execution_count": 1,
   "metadata": {},
   "outputs": [],
   "source": [
    "## Dependencies\n",
    "import pandas as pd\n",
    "from bs4 import BeautifulSoup as bs\n",
    "from splinter import Browser\n",
    "from webdriver_manager.chrome import ChromeDriverManager\n"
   ]
  },
  {
   "cell_type": "code",
   "execution_count": 2,
   "metadata": {},
   "outputs": [
    {
     "output_type": "stream",
     "name": "stderr",
     "text": [
      "\n",
      "\n",
      "====== WebDriver manager ======\n",
      "Current google-chrome version is 91.0.4472\n",
      "Get LATEST driver version for 91.0.4472\n",
      "Get LATEST driver version for 91.0.4472\n",
      "Trying to download new driver from https://chromedriver.storage.googleapis.com/91.0.4472.19/chromedriver_win32.zip\n",
      "Driver has been saved in cache [C:\\Users\\rpmcl\\.wdm\\drivers\\chromedriver\\win32\\91.0.4472.19]\n"
     ]
    }
   ],
   "source": [
    "## Setup Splinter\n",
    "executable_path = {'executable_path': ChromeDriverManager().install()}\n",
    "browser = Browser('chrome', **executable_path, headless=False)"
   ]
  },
  {
   "source": [
    "## 1. NASA Mars News"
   ],
   "cell_type": "markdown",
   "metadata": {}
  },
  {
   "cell_type": "code",
   "execution_count": 3,
   "metadata": {},
   "outputs": [],
   "source": [
    "## Mars News URL\n",
    "url = \"https://redplanetscience.com/\"\n",
    "\n",
    "## Retrieve URL (request)\n",
    "# response = requests.get(url)\n",
    "# soup = bs(response.text, 'html.parser')\n",
    "\n",
    "## Open URL in Chrome Browser\n",
    "browser.visit(url)\n",
    "\n",
    "## Make Beautiful Soup\n",
    "soup = bs(browser.html, 'html.parser')\n",
    "\n",
    "## Extract News Title\n",
    "news_title = soup.find(\"div\", class_=\"content_title\").text\n",
    "\n",
    "## Extract News Paragraph\n",
    "news_paragraph = soup.find(\"div\", class_=\"article_teaser_body\").text"
   ]
  },
  {
   "cell_type": "code",
   "execution_count": 4,
   "metadata": {},
   "outputs": [
    {
     "output_type": "stream",
     "name": "stdout",
     "text": [
      "Robotic Toolkit Added to NASA's Mars 2020 Rover\nThe bit carousel, which lies at the heart of the rover's Sample Caching System, is now aboard NASA's newest rover. \n"
     ]
    }
   ],
   "source": [
    "## Display scraped News\n",
    "print(news_title)\n",
    "print(news_paragraph)"
   ]
  },
  {
   "source": [
    "## 2. JPL Mars Space Images (Featured Image)"
   ],
   "cell_type": "markdown",
   "metadata": {}
  },
  {
   "cell_type": "code",
   "execution_count": 5,
   "metadata": {},
   "outputs": [],
   "source": [
    "## Mars Space Images URL\n",
    "url = \"https://spaceimages-mars.com/\"\n",
    "\n",
    "## Open URL in Chrome Browser\n",
    "browser.visit(url)\n",
    "\n",
    "## Click \"FULL IMAGE\" button\n",
    "# browser.find_by_name(\" FULL IMAGE\").click()\n",
    "\n",
    "## Make Beautiful Soup\n",
    "soup = bs(browser.html, 'html.parser')\n",
    "\n",
    "## Extract image URL\n",
    "# featured_image_src = soup.find(\"img\", class_=\"fancybox_image\")[\"src\"]\n",
    "featured_image_src = soup.find(\"img\", class_=\"headerimage fade-in\")[\"src\"]\n",
    "featured_image_url = url + featured_image_src"
   ]
  },
  {
   "cell_type": "code",
   "execution_count": 6,
   "metadata": {},
   "outputs": [
    {
     "output_type": "stream",
     "name": "stdout",
     "text": [
      "https://spaceimages-mars.com/image/featured/mars1.jpg\n"
     ]
    }
   ],
   "source": [
    "## Display scraped URL\n",
    "print(featured_image_url)"
   ]
  },
  {
   "source": [
    "## 3. Mars Facts"
   ],
   "cell_type": "markdown",
   "metadata": {}
  },
  {
   "cell_type": "code",
   "execution_count": 7,
   "metadata": {},
   "outputs": [],
   "source": [
    "## Mars Facts URL\n",
    "url = \"https://galaxyfacts-mars.com/\"\n",
    "\n",
    "## Extract Tables from URL\n",
    "tables = pd.read_html(url)\n",
    "\n",
    "## Select \"Mars Planet Profile\" Table & Store as DataFrame\n",
    "mars_facts_df = tables[1]\n",
    "\n",
    "## Convert DataFrame to HTML (as string)\n",
    "facts_table = mars_facts_df.to_html() "
   ]
  },
  {
   "cell_type": "code",
   "execution_count": 8,
   "metadata": {},
   "outputs": [
    {
     "output_type": "execute_result",
     "data": {
      "text/plain": [
       "'<table border=\"1\" class=\"dataframe\">\\n  <thead>\\n    <tr style=\"text-align: right;\">\\n      <th></th>\\n      <th>0</th>\\n      <th>1</th>\\n    </tr>\\n  </thead>\\n  <tbody>\\n    <tr>\\n      <th>0</th>\\n      <td>Equatorial Diameter:</td>\\n      <td>6,792 km</td>\\n    </tr>\\n    <tr>\\n      <th>1</th>\\n      <td>Polar Diameter:</td>\\n      <td>6,752 km</td>\\n    </tr>\\n    <tr>\\n      <th>2</th>\\n      <td>Mass:</td>\\n      <td>6.39 × 10^23 kg (0.11 Earths)</td>\\n    </tr>\\n    <tr>\\n      <th>3</th>\\n      <td>Moons:</td>\\n      <td>2 ( Phobos &amp; Deimos )</td>\\n    </tr>\\n    <tr>\\n      <th>4</th>\\n      <td>Orbit Distance:</td>\\n      <td>227,943,824 km (1.38 AU)</td>\\n    </tr>\\n    <tr>\\n      <th>5</th>\\n      <td>Orbit Period:</td>\\n      <td>687 days (1.9 years)</td>\\n    </tr>\\n    <tr>\\n      <th>6</th>\\n      <td>Surface Temperature:</td>\\n      <td>-87 to -5 °C</td>\\n    </tr>\\n    <tr>\\n      <th>7</th>\\n      <td>First Record:</td>\\n      <td>2nd millennium BC</td>\\n    </tr>\\n    <tr>\\n      <th>8</th>\\n      <td>Recorded By:</td>\\n      <td>Egyptian astronomers</td>\\n    </tr>\\n  </tbody>\\n</table>'"
      ]
     },
     "metadata": {},
     "execution_count": 8
    }
   ],
   "source": [
    "## Display scraped table\n",
    "facts_table"
   ]
  },
  {
   "source": [
    "## 4. Mars Hemispheres"
   ],
   "cell_type": "markdown",
   "metadata": {}
  },
  {
   "cell_type": "code",
   "execution_count": 9,
   "metadata": {},
   "outputs": [],
   "source": [
    "## Mars Hemispheres URL\n",
    "url = \"https://marshemispheres.com/\"\n",
    "\n",
    "## Open URL in Chrome Browser\n",
    "browser.visit(url)\n",
    "\n",
    "## Set variables\n",
    "hemisphere_image_urls = []\n",
    "\n",
    "## Scrape Loop\n",
    "for i in range(4):\n",
    "\n",
    "    ## Click \"Hemisphere\" link\n",
    "    browser.links.find_by_partial_text(\"Hemisphere\")[i].click()\n",
    "    ## Click \"Open\" link\n",
    "    browser.links.find_by_partial_text(\"Open\").click()\n",
    "\n",
    "    ## Make Beautiful Soup\n",
    "    soup = bs(browser.html, 'html.parser')\n",
    "\n",
    "    ## Extract hemisphere title\n",
    "    title_raw = soup.find(\"h2\", class_=\"title\").text\n",
    "    title_clean = title_raw.split(\" Enhanced\")[0]\n",
    "\n",
    "    ## Extract hemisphere image url\n",
    "    img_src = soup.find(\"img\", class_=\"wide-image\")[\"src\"]\n",
    "    img_url = url + img_src\n",
    "\n",
    "    ## Append hemisphere title & image as {key:value}\n",
    "    hemisphere_image_urls.append({\"title\": title_clean, \"img_url\": img_url})\n",
    "\n",
    "    ## Back Chrome Browser\n",
    "    browser.back()"
   ]
  },
  {
   "cell_type": "code",
   "execution_count": 10,
   "metadata": {},
   "outputs": [
    {
     "output_type": "execute_result",
     "data": {
      "text/plain": [
       "[{'title': 'Cerberus Hemisphere',\n",
       "  'img_url': 'https://marshemispheres.com/images/f5e372a36edfa389625da6d0cc25d905_cerberus_enhanced.tif_full.jpg'},\n",
       " {'title': 'Schiaparelli Hemisphere',\n",
       "  'img_url': 'https://marshemispheres.com/images/3778f7b43bbbc89d6e3cfabb3613ba93_schiaparelli_enhanced.tif_full.jpg'},\n",
       " {'title': 'Syrtis Major Hemisphere',\n",
       "  'img_url': 'https://marshemispheres.com/images/555e6403a6ddd7ba16ddb0e471cadcf7_syrtis_major_enhanced.tif_full.jpg'},\n",
       " {'title': 'Valles Marineris Hemisphere',\n",
       "  'img_url': 'https://marshemispheres.com/images/b3c7c6c9138f57b4756be9b9c43e3a48_valles_marineris_enhanced.tif_full.jpg'}]"
      ]
     },
     "metadata": {},
     "execution_count": 10
    }
   ],
   "source": [
    "## Display scraped Hemispheres\n",
    "hemisphere_image_urls"
   ]
  },
  {
   "cell_type": "code",
   "execution_count": 11,
   "metadata": {},
   "outputs": [],
   "source": [
    "## Close Chrome Browser\n",
    "browser.quit()"
   ]
  },
  {
   "cell_type": "code",
   "execution_count": null,
   "metadata": {},
   "outputs": [],
   "source": []
  },
  {
   "cell_type": "code",
   "execution_count": null,
   "metadata": {},
   "outputs": [],
   "source": []
  },
  {
   "cell_type": "code",
   "execution_count": null,
   "metadata": {},
   "outputs": [],
   "source": []
  },
  {
   "cell_type": "code",
   "execution_count": null,
   "metadata": {},
   "outputs": [],
   "source": []
  }
 ]
}