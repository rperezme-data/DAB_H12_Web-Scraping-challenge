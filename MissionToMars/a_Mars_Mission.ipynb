{
 "metadata": {
  "language_info": {
   "codemirror_mode": {
    "name": "ipython",
    "version": 3
   },
   "file_extension": ".py",
   "mimetype": "text/x-python",
   "name": "python",
   "nbconvert_exporter": "python",
   "pygments_lexer": "ipython3",
   "version": "3.6.10"
  },
  "orig_nbformat": 2,
  "kernelspec": {
   "name": "python3",
   "display_name": "Python 3.6.10 64-bit ('PythonData': conda)"
  },
  "interpreter": {
   "hash": "6df7a64a006c2d04527986e5d22de7d45e568162a61eafa714177317653674a0"
  }
 },
 "nbformat": 4,
 "nbformat_minor": 2,
 "cells": [
  {
   "source": [
    "# Mission to Mars\n",
    "### Description"
   ],
   "cell_type": "markdown",
   "metadata": {}
  },
  {
   "cell_type": "code",
   "execution_count": 35,
   "metadata": {},
   "outputs": [],
   "source": [
    "## Dependencies\n",
    "import pandas as pd\n",
    "from bs4 import BeautifulSoup as bs\n",
    "from splinter import Browser\n",
    "from webdriver_manager.chrome import ChromeDriverManager\n"
   ]
  },
  {
   "cell_type": "code",
   "execution_count": 36,
   "metadata": {},
   "outputs": [
    {
     "output_type": "stream",
     "name": "stderr",
     "text": [
      "\n",
      "\n",
      "====== WebDriver manager ======\n",
      "Current google-chrome version is 91.0.4472\n",
      "Get LATEST driver version for 91.0.4472\n",
      "Driver [C:\\Users\\rpmcl\\.wdm\\drivers\\chromedriver\\win32\\91.0.4472.101\\chromedriver.exe] found in cache\n"
     ]
    }
   ],
   "source": [
    "## Setup Splinter\n",
    "executable_path = {'executable_path': ChromeDriverManager().install()}\n",
    "browser = Browser('chrome', **executable_path, headless=False)"
   ]
  },
  {
   "source": [
    "## 1. NASA Mars News"
   ],
   "cell_type": "markdown",
   "metadata": {}
  },
  {
   "cell_type": "code",
   "execution_count": 37,
   "metadata": {},
   "outputs": [],
   "source": [
    "## Mars News URL\n",
    "url = \"https://redplanetscience.com/\"\n",
    "\n",
    "## Retrieve URL (request)\n",
    "# response = requests.get(url)\n",
    "# soup = bs(response.text, 'html.parser')\n",
    "\n",
    "## Open URL in Chrome Browser\n",
    "browser.visit(url)\n",
    "\n",
    "## Make Beautiful Soup\n",
    "soup = bs(browser.html, 'html.parser')\n",
    "\n",
    "## Extract News Title\n",
    "news_title = soup.find(\"div\", class_=\"content_title\").text\n",
    "\n",
    "## Extract News Paragraph\n",
    "news_paragraph = soup.find(\"div\", class_=\"article_teaser_body\").text"
   ]
  },
  {
   "cell_type": "code",
   "execution_count": 38,
   "metadata": {},
   "outputs": [
    {
     "output_type": "stream",
     "name": "stdout",
     "text": [
      "NASA Administrator Statement on Moon to Mars Initiative, FY 2021 Budget\nJim Bridenstine addresses NASA's ambitious plans for the coming years, including Mars Sample Return.\n"
     ]
    }
   ],
   "source": [
    "## Display scraped News\n",
    "print(news_title)\n",
    "print(news_paragraph)"
   ]
  },
  {
   "source": [
    "## 2. JPL Mars Space Images (Featured Image)"
   ],
   "cell_type": "markdown",
   "metadata": {}
  },
  {
   "cell_type": "code",
   "execution_count": 39,
   "metadata": {},
   "outputs": [],
   "source": [
    "## Mars Space Images URL\n",
    "url = \"https://spaceimages-mars.com/\"\n",
    "\n",
    "## Open URL in Chrome Browser\n",
    "browser.visit(url)\n",
    "\n",
    "## Click \"FULL IMAGE\" button\n",
    "# browser.find_by_name(\" FULL IMAGE\").click()\n",
    "\n",
    "## Make Beautiful Soup\n",
    "soup = bs(browser.html, 'html.parser')\n",
    "\n",
    "## Extract image URL\n",
    "# featured_image_src = soup.find(\"img\", class_=\"fancybox_image\")[\"src\"]\n",
    "featured_image_src = soup.find(\"img\", class_=\"headerimage fade-in\")[\"src\"]\n",
    "featured_image_url = url + featured_image_src"
   ]
  },
  {
   "cell_type": "code",
   "execution_count": 40,
   "metadata": {},
   "outputs": [
    {
     "output_type": "stream",
     "name": "stdout",
     "text": [
      "https://spaceimages-mars.com/image/featured/mars2.jpg\n"
     ]
    }
   ],
   "source": [
    "## Display scraped URL\n",
    "print(featured_image_url)"
   ]
  },
  {
   "source": [
    "## 3. Mars Facts"
   ],
   "cell_type": "markdown",
   "metadata": {}
  },
  {
   "cell_type": "code",
   "execution_count": 41,
   "metadata": {},
   "outputs": [],
   "source": [
    "## Mars Facts URL\n",
    "url = \"https://galaxyfacts-mars.com/\"\n",
    "\n",
    "## Extract Tables from URL\n",
    "tables = pd.read_html(url)\n",
    "\n",
    "## Select \"Mars Planet Profile\" Table & Store as DataFrame\n",
    "mars_facts_df = tables[0]\n",
    "\n",
    "## Set first row as Header & Drop first row\n",
    "mars_facts_df.columns = mars_facts_df.iloc[0]\n",
    "mars_facts_df.drop(0, inplace=True)\n",
    "\n",
    "## Set first column as Index\n",
    "mars_facts_df.set_index(\"Mars - Earth Comparison\", inplace=True)\n",
    "\n",
    "## HTML Table Parameters\n",
    "justify=\"left\"\n",
    "classes=\"table table-responsive table-bordered table-striped\"\n",
    "border=0\n",
    "encoding=\"utf-8\"\n",
    "\n",
    "## Convert table DataFrame to HTML (as string)\n",
    "facts_table =  mars_facts_df.to_html(buf=None, justify=justify, classes=classes, border=border)\n",
    "\n",
    "## Export DataFrame to HTML\n",
    "# mars_facts_df.to_html(buf=\"Templates/Mars_Facts.html\", justify=justify, classes=classes, border=border, encoding=encoding)"
   ]
  },
  {
   "cell_type": "code",
   "execution_count": 42,
   "metadata": {},
   "outputs": [
    {
     "output_type": "execute_result",
     "data": {
      "text/plain": [
       "0                                   Mars            Earth\n",
       "Mars - Earth Comparison                                  \n",
       "Diameter:                       6,779 km        12,742 km\n",
       "Mass:                    6.39 × 10^23 kg  5.97 × 10^24 kg\n",
       "Moons:                                 2                1\n",
       "Distance from Sun:        227,943,824 km   149,598,262 km\n",
       "Length of Year:           687 Earth days      365.24 days\n",
       "Temperature:                -87 to -5 °C      -88 to 58°C"
      ],
      "text/html": "<div>\n<style scoped>\n    .dataframe tbody tr th:only-of-type {\n        vertical-align: middle;\n    }\n\n    .dataframe tbody tr th {\n        vertical-align: top;\n    }\n\n    .dataframe thead th {\n        text-align: right;\n    }\n</style>\n<table border=\"1\" class=\"dataframe\">\n  <thead>\n    <tr style=\"text-align: right;\">\n      <th></th>\n      <th>Mars</th>\n      <th>Earth</th>\n    </tr>\n    <tr>\n      <th>Mars - Earth Comparison</th>\n      <th></th>\n      <th></th>\n    </tr>\n  </thead>\n  <tbody>\n    <tr>\n      <th>Diameter:</th>\n      <td>6,779 km</td>\n      <td>12,742 km</td>\n    </tr>\n    <tr>\n      <th>Mass:</th>\n      <td>6.39 × 10^23 kg</td>\n      <td>5.97 × 10^24 kg</td>\n    </tr>\n    <tr>\n      <th>Moons:</th>\n      <td>2</td>\n      <td>1</td>\n    </tr>\n    <tr>\n      <th>Distance from Sun:</th>\n      <td>227,943,824 km</td>\n      <td>149,598,262 km</td>\n    </tr>\n    <tr>\n      <th>Length of Year:</th>\n      <td>687 Earth days</td>\n      <td>365.24 days</td>\n    </tr>\n    <tr>\n      <th>Temperature:</th>\n      <td>-87 to -5 °C</td>\n      <td>-88 to 58°C</td>\n    </tr>\n  </tbody>\n</table>\n</div>"
     },
     "metadata": {},
     "execution_count": 42
    }
   ],
   "source": [
    "## Display DataFrame table\n",
    "mars_facts_df"
   ]
  },
  {
   "cell_type": "code",
   "execution_count": 43,
   "metadata": {},
   "outputs": [
    {
     "output_type": "stream",
     "name": "stdout",
     "text": [
      "<table border=\"0\" class=\"dataframe table table-responsive table-bordered table-striped\">\n  <thead>\n    <tr style=\"text-align: left;\">\n      <th></th>\n      <th>Mars</th>\n      <th>Earth</th>\n    </tr>\n    <tr>\n      <th>Mars - Earth Comparison</th>\n      <th></th>\n      <th></th>\n    </tr>\n  </thead>\n  <tbody>\n    <tr>\n      <th>Diameter:</th>\n      <td>6,779 km</td>\n      <td>12,742 km</td>\n    </tr>\n    <tr>\n      <th>Mass:</th>\n      <td>6.39 × 10^23 kg</td>\n      <td>5.97 × 10^24 kg</td>\n    </tr>\n    <tr>\n      <th>Moons:</th>\n      <td>2</td>\n      <td>1</td>\n    </tr>\n    <tr>\n      <th>Distance from Sun:</th>\n      <td>227,943,824 km</td>\n      <td>149,598,262 km</td>\n    </tr>\n    <tr>\n      <th>Length of Year:</th>\n      <td>687 Earth days</td>\n      <td>365.24 days</td>\n    </tr>\n    <tr>\n      <th>Temperature:</th>\n      <td>-87 to -5 °C</td>\n      <td>-88 to 58°C</td>\n    </tr>\n  </tbody>\n</table>\n"
     ]
    }
   ],
   "source": [
    "## Display HTML table\n",
    "print(facts_table)"
   ]
  },
  {
   "source": [
    "## 4. Mars Hemispheres"
   ],
   "cell_type": "markdown",
   "metadata": {}
  },
  {
   "cell_type": "code",
   "execution_count": 44,
   "metadata": {},
   "outputs": [],
   "source": [
    "## Mars Hemispheres URL\n",
    "url = \"https://marshemispheres.com/\"\n",
    "\n",
    "## Open URL in Chrome Browser\n",
    "browser.visit(url)\n",
    "\n",
    "## Set variables\n",
    "hemisphere_image_urls = []\n",
    "\n",
    "## Scrape Loop\n",
    "for i in range(4):\n",
    "\n",
    "    ## Click \"Hemisphere\" link\n",
    "    browser.links.find_by_partial_text(\"Hemisphere\")[i].click()\n",
    "    ## Click \"Open\" link\n",
    "    browser.links.find_by_partial_text(\"Open\").click()\n",
    "\n",
    "    ## Make Beautiful Soup\n",
    "    soup = bs(browser.html, 'html.parser')\n",
    "\n",
    "    ## Extract hemisphere title\n",
    "    title_raw = soup.find(\"h2\", class_=\"title\").text\n",
    "    title_clean = title_raw.split(\" Enhanced\")[0]\n",
    "\n",
    "    ## Extract hemisphere image url\n",
    "    img_src = soup.find(\"img\", class_=\"wide-image\")[\"src\"]\n",
    "    img_url = url + img_src\n",
    "\n",
    "    ## Append hemisphere title & image as {key:value}\n",
    "    hemisphere_image_urls.append({\"title\": title_clean, \"img_url\": img_url})\n",
    "\n",
    "    ## Back Chrome Browser\n",
    "    browser.back()"
   ]
  },
  {
   "cell_type": "code",
   "execution_count": 45,
   "metadata": {},
   "outputs": [
    {
     "output_type": "execute_result",
     "data": {
      "text/plain": [
       "[{'title': 'Cerberus Hemisphere',\n",
       "  'img_url': 'https://marshemispheres.com/images/f5e372a36edfa389625da6d0cc25d905_cerberus_enhanced.tif_full.jpg'},\n",
       " {'title': 'Schiaparelli Hemisphere',\n",
       "  'img_url': 'https://marshemispheres.com/images/3778f7b43bbbc89d6e3cfabb3613ba93_schiaparelli_enhanced.tif_full.jpg'},\n",
       " {'title': 'Syrtis Major Hemisphere',\n",
       "  'img_url': 'https://marshemispheres.com/images/555e6403a6ddd7ba16ddb0e471cadcf7_syrtis_major_enhanced.tif_full.jpg'},\n",
       " {'title': 'Valles Marineris Hemisphere',\n",
       "  'img_url': 'https://marshemispheres.com/images/b3c7c6c9138f57b4756be9b9c43e3a48_valles_marineris_enhanced.tif_full.jpg'}]"
      ]
     },
     "metadata": {},
     "execution_count": 45
    }
   ],
   "source": [
    "## Display scraped Hemispheres\n",
    "hemisphere_image_urls"
   ]
  },
  {
   "cell_type": "code",
   "execution_count": 46,
   "metadata": {},
   "outputs": [],
   "source": [
    "## Close Chrome Browser\n",
    "browser.quit()"
   ]
  }
 ]
}