{
 "metadata": {
  "language_info": {
   "codemirror_mode": {
    "name": "ipython",
    "version": 3
   },
   "file_extension": ".py",
   "mimetype": "text/x-python",
   "name": "python",
   "nbconvert_exporter": "python",
   "pygments_lexer": "ipython3",
   "version": "3.8.8"
  },
  "orig_nbformat": 2,
  "kernelspec": {
   "name": "python388jvsc74a57bd0bf4fadd7ef9db61a6a76c8e360c0cb80358acff615c587c2ad3d4acee6d57aa3",
   "display_name": "Python 3.8.8 64-bit ('base': conda)"
  }
 },
 "nbformat": 4,
 "nbformat_minor": 2,
 "cells": [
  {
   "source": [
    "# Mission to Mars\n",
    "### Description"
   ],
   "cell_type": "markdown",
   "metadata": {}
  },
  {
   "cell_type": "code",
   "execution_count": 2,
   "metadata": {},
   "outputs": [],
   "source": [
    "## Dependencies\n",
    "from bs4 import BeautifulSoup\n",
    "import requests\n",
    "import pymongo"
   ]
  },
  {
   "cell_type": "code",
   "execution_count": 3,
   "metadata": {},
   "outputs": [],
   "source": [
    "## Initialize PyMongo (MongoDB)\n",
    "conn = 'mongodb://localhost:27017'\n",
    "client = pymongo.MongoClient(conn)"
   ]
  },
  {
   "cell_type": "code",
   "execution_count": null,
   "metadata": {},
   "outputs": [],
   "source": [
    "## Define database and collection\n",
    "# db = client.commerce_db\n",
    "# collection = db.items"
   ]
  },
  {
   "source": [
    "## NASA Mars News"
   ],
   "cell_type": "markdown",
   "metadata": {}
  },
  {
   "cell_type": "code",
   "execution_count": 5,
   "metadata": {},
   "outputs": [],
   "source": [
    "## NASA URL of page to be scraped\n",
    "url = \"https://redplanetscience.com/\"\n",
    "\n",
    "## Retrieve page (request)\n",
    "response = requests.get(url)\n",
    "\n",
    "## Create BeautifulSoup object\n",
    "soup = BeautifulSoup(response.text, 'html.parser')"
   ]
  },
  {
   "cell_type": "code",
   "execution_count": 36,
   "metadata": {},
   "outputs": [
    {
     "output_type": "stream",
     "name": "stdout",
     "text": [
      "<section class=\"image_and_description_container\">\n<div class=\"container\" id=\"news\">\n</div>\n<hr class=\"container\" style=\"margin: 25px auto;width: 83%;\"/>\n<button class=\"btn disable\" id=\"more\" onclick=\"populateContent()\">More</button>\n</section>\n"
     ]
    }
   ],
   "source": [
    "results = soup.find_all('section')\n",
    "print(results[1])"
   ]
  },
  {
   "cell_type": "code",
   "execution_count": 52,
   "metadata": {
    "tags": []
   },
   "outputs": [
    {
     "output_type": "stream",
     "name": "stdout",
     "text": [
      "[<section class=\"image_and_description_container\">\n<div class=\"container\" id=\"news\">\n</div>\n<hr class=\"container\" style=\"margin: 25px auto;width: 83%;\"/>\n<button class=\"btn disable\" id=\"more\" onclick=\"populateContent()\">More</button>\n</section>]\n"
     ]
    }
   ],
   "source": [
    "section = soup.find_all(class_='image_and_description_container')\n",
    "print(section)"
   ]
  },
  {
   "cell_type": "code",
   "execution_count": 51,
   "metadata": {},
   "outputs": [
    {
     "output_type": "execute_result",
     "data": {
      "text/plain": [
       "bs4.BeautifulSoup"
      ]
     },
     "metadata": {},
     "execution_count": 51
    }
   ],
   "source": [
    "type(soup)"
   ]
  },
  {
   "cell_type": "code",
   "execution_count": null,
   "metadata": {},
   "outputs": [],
   "source": []
  },
  {
   "cell_type": "code",
   "execution_count": null,
   "metadata": {},
   "outputs": [],
   "source": []
  },
  {
   "cell_type": "code",
   "execution_count": null,
   "metadata": {},
   "outputs": [],
   "source": []
  }
 ]
}